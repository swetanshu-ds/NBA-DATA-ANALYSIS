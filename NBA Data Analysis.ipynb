{
 "cells": [
  {
   "cell_type": "markdown",
   "id": "1d1d38e5",
   "metadata": {},
   "source": [
    "![](nba.jpg)"
   ]
  },
  {
   "cell_type": "markdown",
   "id": "13a25f42",
   "metadata": {},
   "source": [
    "![](ineuron.jpg)"
   ]
  },
  {
   "cell_type": "markdown",
   "id": "5f755a3a",
   "metadata": {},
   "source": [
    "##### Importing important libraries"
   ]
  },
  {
   "cell_type": "code",
   "execution_count": null,
   "id": "90230799",
   "metadata": {},
   "outputs": [],
   "source": [
    "import pandas as pd\n",
    "import numpy as np\n",
    "import seaborn as sns\n",
    "import matplotlib.pyplot as plt\n",
    "%matplotlib inline"
   ]
  },
  {
   "cell_type": "markdown",
   "id": "886c3ea6",
   "metadata": {},
   "source": [
    "##### Importing all dataframes"
   ]
  },
  {
   "cell_type": "code",
   "execution_count": null,
   "id": "45d546a7",
   "metadata": {},
   "outputs": [],
   "source": [
    "df1=pd.read_csv(\"2012_nba_draft_combine.csv\")\n",
    "df2=pd.read_csv(\"2013_nba_draft_combine.csv\")\n",
    "df3=pd.read_csv(\"2014_nba_draft_combine.csv\")\n",
    "df4=pd.read_csv(\"2015_nba_draft_combine.csv\")\n",
    "df5=pd.read_csv(\"2016_nba_draft_combine.csv\")"
   ]
  },
  {
   "cell_type": "markdown",
   "id": "90a58920",
   "metadata": {},
   "source": [
    "##### Combining all dataframes"
   ]
  },
  {
   "cell_type": "code",
   "execution_count": null,
   "id": "45162261",
   "metadata": {},
   "outputs": [],
   "source": [
    "df6=pd.concat([df1,df2,df3,df4,df5],axis=0)"
   ]
  },
  {
   "cell_type": "code",
   "execution_count": null,
   "id": "1a80f0f8",
   "metadata": {
    "scrolled": false
   },
   "outputs": [],
   "source": [
    "df6"
   ]
  },
  {
   "cell_type": "markdown",
   "id": "b2ec27b8",
   "metadata": {},
   "source": [
    "##### Statistical analysis of all dataset"
   ]
  },
  {
   "cell_type": "code",
   "execution_count": null,
   "id": "c7ef7552",
   "metadata": {},
   "outputs": [],
   "source": [
    "df6.describe()"
   ]
  },
  {
   "cell_type": "code",
   "execution_count": null,
   "id": "0e49875d",
   "metadata": {},
   "outputs": [],
   "source": [
    "df6.info()"
   ]
  },
  {
   "cell_type": "markdown",
   "id": "92c1a24a",
   "metadata": {},
   "source": [
    "##### Number of Unique values in each colums"
   ]
  },
  {
   "cell_type": "code",
   "execution_count": null,
   "id": "78fe7511",
   "metadata": {},
   "outputs": [],
   "source": [
    "nunique=[]\n",
    "columns_labels=[]\n",
    "for i in df6.columns:\n",
    "    nunique.append(df6[i].nunique())\n",
    "    columns_labels.append(i)\n",
    "    print(i,':',df6[i].nunique())"
   ]
  },
  {
   "cell_type": "markdown",
   "id": "adecaeea",
   "metadata": {},
   "source": [
    "##### Droping Unnames: 0 columns"
   ]
  },
  {
   "cell_type": "code",
   "execution_count": null,
   "id": "74b14160",
   "metadata": {},
   "outputs": [],
   "source": [
    "df6.drop(labels='Unnamed: 0',inplace=True,axis=1)"
   ]
  },
  {
   "cell_type": "code",
   "execution_count": null,
   "id": "5ddb4ade",
   "metadata": {},
   "outputs": [],
   "source": [
    "df6.head()"
   ]
  },
  {
   "cell_type": "code",
   "execution_count": null,
   "id": "00f0e585",
   "metadata": {},
   "outputs": [],
   "source": [
    "df6['Player'].nunique()"
   ]
  },
  {
   "cell_type": "markdown",
   "id": "10dedee5",
   "metadata": {},
   "source": [
    "###### Checking total nan values in each column"
   ]
  },
  {
   "cell_type": "code",
   "execution_count": null,
   "id": "94a83c4a",
   "metadata": {},
   "outputs": [],
   "source": [
    "df6.isna().sum()"
   ]
  },
  {
   "cell_type": "markdown",
   "id": "2c6c138d",
   "metadata": {},
   "source": [
    "###### Fill nan values of each column"
   ]
  },
  {
   "cell_type": "code",
   "execution_count": null,
   "id": "f12264f0",
   "metadata": {},
   "outputs": [],
   "source": [
    "df6.fillna(df6.mean(),inplace=True)"
   ]
  },
  {
   "cell_type": "code",
   "execution_count": null,
   "id": "41e07aae",
   "metadata": {},
   "outputs": [],
   "source": [
    "df6['Year'].fillna(value=2014,inplace=True)"
   ]
  },
  {
   "cell_type": "markdown",
   "id": "3b074074",
   "metadata": {},
   "source": [
    "###### Relationship between Sprint and Body Fat"
   ]
  },
  {
   "cell_type": "code",
   "execution_count": null,
   "id": "220a4e52",
   "metadata": {
    "scrolled": false
   },
   "outputs": [],
   "source": [
    "plt.figure(figsize=(10,10))\n",
    "plt.scatter(df6[\"Body Fat\"],df6['Sprint'],color='red')\n",
    "plt.xlabel('Body Fat')\n",
    "plt.ylabel('Sprint')\n",
    "plt.show()\n",
    "\n",
    "\n",
    "####  It shows that most people can do good sprint when their body fat is  between 5-9  and  \n",
    "#     very less people can do good sprint whose body fat is above 12"
   ]
  },
  {
   "cell_type": "markdown",
   "id": "ef1a371a",
   "metadata": {},
   "source": [
    "###### Relation betweeen Hand Length and Hand Width"
   ]
  },
  {
   "cell_type": "code",
   "execution_count": null,
   "id": "add1e4cc",
   "metadata": {},
   "outputs": [],
   "source": [
    "plt.figure(figsize=(10,10))\n",
    "plt.scatter(df6[\"Hand (Length)\"],df6['Hand (Width)'],color='red')\n",
    "plt.xlabel('Hand (Length)')\n",
    "plt.ylabel('Hand (Width)')\n",
    "plt.show()\n",
    "# It shows most of the people having maximum hand length have max hand width also and only 2 person having high hand(Length) \n",
    "# have less hand (Width)"
   ]
  },
  {
   "cell_type": "markdown",
   "id": "ce35ccc9",
   "metadata": {},
   "source": [
    "###### Relation between \"Height (With Shoes)\" and \"Height (No Shoes)\""
   ]
  },
  {
   "cell_type": "code",
   "execution_count": null,
   "id": "80074c81",
   "metadata": {},
   "outputs": [],
   "source": [
    "df8=df6[[\"Height (With Shoes)\",\"Height (No Shoes)\",'Player']]"
   ]
  },
  {
   "cell_type": "code",
   "execution_count": null,
   "id": "fdd47587",
   "metadata": {},
   "outputs": [],
   "source": [
    "df8.plot(figsize=(16,16))"
   ]
  },
  {
   "cell_type": "markdown",
   "id": "a9524e07",
   "metadata": {},
   "source": [
    "###### Relation between Vertical (Max) and Vertical (Max Reach)"
   ]
  },
  {
   "cell_type": "code",
   "execution_count": null,
   "id": "8fca3e60",
   "metadata": {},
   "outputs": [],
   "source": [
    "plt.figure(figsize=(10,10))\n",
    "plt.scatter(df6[\"Vertical (Max)\"],df6['Vertical (Max Reach)'],color='red')\n",
    "plt.xlabel('Vertical (Max)')\n",
    "plt.ylabel('Vertical (Max Reach)')\n",
    "plt.show()"
   ]
  },
  {
   "cell_type": "code",
   "execution_count": null,
   "id": "6da40912",
   "metadata": {},
   "outputs": [],
   "source": [
    "#  The above graph shows that there is only 1 person whose Vertical(Max) is 25 and vertical(Max Reach) is between 135 and 140.\n",
    "#  Rest others data points shows that most of the persons have Vertical(Max) \n",
    "#  between 30-42.5 and Vertical(Max Reach) between 130-145. "
   ]
  },
  {
   "cell_type": "markdown",
   "id": "9aac0172",
   "metadata": {},
   "source": [
    "###### Relationship between Hand (Length) and Hand (Width) using box plot"
   ]
  },
  {
   "cell_type": "code",
   "execution_count": null,
   "id": "53139644",
   "metadata": {},
   "outputs": [],
   "source": [
    "df7=df6[\"Hand (Length)\"]+df6[\"Hand (Width)\"]"
   ]
  },
  {
   "cell_type": "code",
   "execution_count": null,
   "id": "a34cc84e",
   "metadata": {},
   "outputs": [],
   "source": [
    "plt.boxplot(df7,vert=False,patch_artist=True)\n",
    "plt.show()"
   ]
  },
  {
   "cell_type": "code",
   "execution_count": null,
   "id": "361a1731",
   "metadata": {},
   "outputs": [],
   "source": [
    "#  It shows that their are 3 outliers  that do not correlate with other data points. \n",
    "#  First at 0 and the others two is between 5-10.  "
   ]
  },
  {
   "cell_type": "markdown",
   "id": "b747a3bf",
   "metadata": {},
   "source": [
    "###### Getting cumulative value of all non object columns"
   ]
  },
  {
   "cell_type": "code",
   "execution_count": null,
   "id": "04d34764",
   "metadata": {
    "scrolled": true
   },
   "outputs": [],
   "source": [
    "for i in df6.columns[1:]:\n",
    "    print(i,\" : \",df6[i].cumsum())"
   ]
  },
  {
   "cell_type": "markdown",
   "id": "e1a43089",
   "metadata": {},
   "source": [
    "######   Year wise number of occurence"
   ]
  },
  {
   "cell_type": "code",
   "execution_count": null,
   "id": "5bca07ac",
   "metadata": {},
   "outputs": [],
   "source": [
    "sns.countplot(x=\"Year\",data=df6)\n",
    "plt.show()"
   ]
  },
  {
   "cell_type": "code",
   "execution_count": null,
   "id": "35432045",
   "metadata": {},
   "outputs": [],
   "source": [
    "####  The above graph shows that year  wise how many matches was played "
   ]
  },
  {
   "cell_type": "markdown",
   "id": "284738eb",
   "metadata": {},
   "source": [
    "###### Hexbin plot between year and Weight"
   ]
  },
  {
   "cell_type": "code",
   "execution_count": null,
   "id": "647c6fe6",
   "metadata": {},
   "outputs": [],
   "source": [
    "df6.plot.hexbin(x=\"Year\",y=\"Weight\",gridsize=20)\n",
    "plt.show()"
   ]
  },
  {
   "cell_type": "markdown",
   "id": "bd27b31e",
   "metadata": {},
   "source": [
    "###### KDE Distribution"
   ]
  },
  {
   "cell_type": "code",
   "execution_count": null,
   "id": "16ca8025",
   "metadata": {
    "scrolled": false
   },
   "outputs": [],
   "source": [
    "pd.plotting.scatter_matrix(df6,figsize = (50,50),diagonal = 'kde')\n",
    "plt.show()"
   ]
  },
  {
   "cell_type": "markdown",
   "id": "ac495d58",
   "metadata": {},
   "source": [
    "###### Using Plotly"
   ]
  },
  {
   "cell_type": "code",
   "execution_count": null,
   "id": "da193b9e",
   "metadata": {},
   "outputs": [],
   "source": [
    "from plotly.offline import iplot\n",
    "import plotly as py\n",
    "import plotly.tools as tls\n",
    "import cufflinks as cf"
   ]
  },
  {
   "cell_type": "code",
   "execution_count": null,
   "id": "7b6a7b9e",
   "metadata": {},
   "outputs": [],
   "source": [
    "import plotly.offline as pyo\n",
    "import plotly.graph_objs as go\n",
    "pyo.init_notebook_mode()"
   ]
  },
  {
   "cell_type": "code",
   "execution_count": null,
   "id": "5a51aae7",
   "metadata": {},
   "outputs": [],
   "source": [
    "cf.go_offline()"
   ]
  },
  {
   "cell_type": "markdown",
   "id": "5e07f056",
   "metadata": {},
   "source": [
    "###### 3d plot showing relationship between Year and Body Fat"
   ]
  },
  {
   "cell_type": "code",
   "execution_count": null,
   "id": "116be9fd",
   "metadata": {},
   "outputs": [],
   "source": [
    "df6.iplot(x='Year',y='Body Fat')"
   ]
  },
  {
   "cell_type": "code",
   "execution_count": null,
   "id": "f0816498",
   "metadata": {},
   "outputs": [],
   "source": [
    "##### It shows the average body fat year wise"
   ]
  },
  {
   "cell_type": "markdown",
   "id": "fb58d2e2",
   "metadata": {},
   "source": [
    "###### 3d plot showing relationship between Year and Body Fat and Player"
   ]
  },
  {
   "cell_type": "code",
   "execution_count": null,
   "id": "08c4fca7",
   "metadata": {
    "scrolled": false
   },
   "outputs": [],
   "source": [
    "df6.iplot(x='Year',y='Body Fat',z='Player',kind='scatter3d')"
   ]
  },
  {
   "cell_type": "code",
   "execution_count": null,
   "id": "0f355b70",
   "metadata": {},
   "outputs": [],
   "source": [
    "##### The plot shows that max body fat was in year 2014 and second highest body fat achieved in 2016 \n",
    "##### Further most of the data points shows the body fat is concentrated between 4-8"
   ]
  },
  {
   "cell_type": "markdown",
   "id": "5f3aebe3",
   "metadata": {},
   "source": [
    "###### 3d plot showing relationship between Year ,Wieght and Player"
   ]
  },
  {
   "cell_type": "code",
   "execution_count": null,
   "id": "5451661d",
   "metadata": {
    "scrolled": false
   },
   "outputs": [],
   "source": [
    "df6.iplot(x='Year',y='Weight',z='Player',kind=\"bubble3d\",size='Body Fat')"
   ]
  },
  {
   "cell_type": "code",
   "execution_count": null,
   "id": "5439112f",
   "metadata": {},
   "outputs": [],
   "source": [
    "# The plot shows the minimum weight player was in 2016  and player name Tyler Ulis"
   ]
  },
  {
   "cell_type": "markdown",
   "id": "ade1c142",
   "metadata": {},
   "source": [
    "###### 3d plot showing relationship between Sprint,Year and Weight"
   ]
  },
  {
   "cell_type": "code",
   "execution_count": null,
   "id": "c1037711",
   "metadata": {
    "scrolled": false
   },
   "outputs": [],
   "source": [
    "df6.iplot(x='Sprint',y='Year',z='Weight',kind='scatter3d')"
   ]
  },
  {
   "cell_type": "code",
   "execution_count": null,
   "id": "03de2043",
   "metadata": {},
   "outputs": [],
   "source": [
    "# The above graph shows that a person having maximum sprint is having the weight 268 and year 2012\n",
    "# The majority players have sprint between 3-3.4"
   ]
  },
  {
   "cell_type": "markdown",
   "id": "05a9260a",
   "metadata": {},
   "source": [
    "###### 3d bar plot showing relationship between Weight and Player"
   ]
  },
  {
   "cell_type": "code",
   "execution_count": null,
   "id": "8f04dfa1",
   "metadata": {
    "scrolled": false
   },
   "outputs": [],
   "source": [
    "df6.iplot(x='Weight',y='Player',kind='bar')"
   ]
  },
  {
   "cell_type": "code",
   "execution_count": null,
   "id": "55c11d19",
   "metadata": {},
   "outputs": [],
   "source": [
    "# The player with max weight is Jared sullinger-268"
   ]
  },
  {
   "cell_type": "markdown",
   "id": "719e44ec",
   "metadata": {},
   "source": [
    "###### 3d bar plot showing relationship between Height (No Shoes) and Player"
   ]
  },
  {
   "cell_type": "code",
   "execution_count": null,
   "id": "d194004b",
   "metadata": {},
   "outputs": [],
   "source": [
    "df6.iplot(x='Height (No Shoes)',y='Player',kind='bar')"
   ]
  },
  {
   "cell_type": "code",
   "execution_count": null,
   "id": "9469c897",
   "metadata": {},
   "outputs": [],
   "source": [
    "# The player with maximum height is 85.25 -Jordan Bachynski and the player with least height is Kay Felder -68.25"
   ]
  },
  {
   "cell_type": "markdown",
   "id": "9133e813",
   "metadata": {},
   "source": [
    "###### bubble3d plot showing relationship between Weight ,Sprint and Player where the size of marker is Sprint "
   ]
  },
  {
   "cell_type": "code",
   "execution_count": null,
   "id": "4d3ecc4d",
   "metadata": {
    "scrolled": false
   },
   "outputs": [],
   "source": [
    "df6.iplot(x='Weight',y='Sprint',z='Player',kind='scatter3d')"
   ]
  },
  {
   "cell_type": "code",
   "execution_count": null,
   "id": "0083d454",
   "metadata": {},
   "outputs": [],
   "source": [
    "# The plot shows that the player with the maximum weight is 279 and name is Andre Drummond and can do the sprint in 3.39\n",
    "# Most of the players have weight between 180-240"
   ]
  },
  {
   "cell_type": "markdown",
   "id": "3f91e242",
   "metadata": {},
   "source": [
    "###### 3d bar plot showing relationship between Weight and Sprint"
   ]
  },
  {
   "cell_type": "code",
   "execution_count": null,
   "id": "ca8a42df",
   "metadata": {},
   "outputs": [],
   "source": [
    "df6.iplot(x='Sprint',y='Weight',kind='bar')"
   ]
  },
  {
   "cell_type": "code",
   "execution_count": null,
   "id": "6298b167",
   "metadata": {},
   "outputs": [],
   "source": [
    "# The above figure shows that the player with maximum sprint has weight 268."
   ]
  },
  {
   "cell_type": "markdown",
   "id": "112f57d7",
   "metadata": {},
   "source": [
    "###### Seaborn bar plot showing relationship between sprint and total persons having that sprint"
   ]
  },
  {
   "cell_type": "code",
   "execution_count": null,
   "id": "33106a9c",
   "metadata": {},
   "outputs": [],
   "source": [
    "plt.figure(figsize=(20,20))\n",
    "ax=sns.countplot(x=\"Sprint\",data=df6)\n",
    "plt.xticks(rotation=90)\n",
    "ax.set_xlabel(\"Sprint\")\n",
    "ax.set_ylabel(\"Count\")\n",
    "plt.show()"
   ]
  },
  {
   "cell_type": "code",
   "execution_count": null,
   "id": "6b116347",
   "metadata": {},
   "outputs": [],
   "source": [
    "###### The above seaborn plot shows that maximum person have sprint of 3.32"
   ]
  },
  {
   "cell_type": "markdown",
   "id": "c84fa97d",
   "metadata": {},
   "source": [
    "###### 3d bar plot showing relationship between Vertical (Max Reach) and Weight"
   ]
  },
  {
   "cell_type": "code",
   "execution_count": null,
   "id": "2c75fcd6",
   "metadata": {},
   "outputs": [],
   "source": [
    "df6.iplot(x='Vertical (Max Reach)',y='Weight',kind='box')"
   ]
  },
  {
   "cell_type": "code",
   "execution_count": null,
   "id": "89ac4ba8",
   "metadata": {},
   "outputs": [],
   "source": [
    "# The above graph shows the relationship of weight with every other column"
   ]
  },
  {
   "cell_type": "markdown",
   "id": "e7f80481",
   "metadata": {},
   "source": [
    "###### 3d scatter plot showing relationship between Weight ,Standing reach and Player "
   ]
  },
  {
   "cell_type": "code",
   "execution_count": null,
   "id": "535fd038",
   "metadata": {},
   "outputs": [],
   "source": [
    "df6.iplot(x='Weight',y='Standing reach',z='Player',kind='scatter3d')"
   ]
  },
  {
   "cell_type": "code",
   "execution_count": null,
   "id": "823f6d93",
   "metadata": {},
   "outputs": [],
   "source": [
    "# The above graph shows that the player with maximum standing reach is Rudy Gobert and weight is 238.\n",
    "# The Player witrh maximum weight is having standing reach - 109.5\n",
    "# Most of the people having weight between 200-24- is having standing reach between 100-110"
   ]
  },
  {
   "cell_type": "markdown",
   "id": "cdccb280",
   "metadata": {},
   "source": [
    "#### import PLOTLY.EXPRESS"
   ]
  },
  {
   "cell_type": "code",
   "execution_count": null,
   "id": "a9ad6856",
   "metadata": {},
   "outputs": [],
   "source": [
    "import plotly.express as px"
   ]
  },
  {
   "cell_type": "markdown",
   "id": "8116ff17",
   "metadata": {},
   "source": [
    "###### Graphical plots using plotly express"
   ]
  },
  {
   "cell_type": "code",
   "execution_count": null,
   "id": "b994e7bf",
   "metadata": {},
   "outputs": [],
   "source": [
    "fig = px.parallel_categories(df6,color='Year',color_continuous_scale=px.colors.sequential.Inferno)\n",
    "fig.show()"
   ]
  },
  {
   "cell_type": "code",
   "execution_count": null,
   "id": "466080ac",
   "metadata": {},
   "outputs": [],
   "source": [
    "fig = px.line(df6,x=\"Year\",y=\"Weight\",color = \"Sprint\",line_group=\"Player\",hover_name=\"Player\",line_shape=\"spline\",render_mode=\"svg\")\n",
    "fig.show()"
   ]
  },
  {
   "cell_type": "markdown",
   "id": "c3461816",
   "metadata": {},
   "source": [
    "###### Area plot betwen year and player"
   ]
  },
  {
   "cell_type": "code",
   "execution_count": null,
   "id": "6f3729d7",
   "metadata": {},
   "outputs": [],
   "source": [
    "fig = px.area(df6,x=\"Year\",y=\"Player\",color = \"Draft pick\",line_group=\"Hand (Width)\")\n",
    "fig.show()"
   ]
  },
  {
   "cell_type": "code",
   "execution_count": null,
   "id": "3cfa02f2",
   "metadata": {},
   "outputs": [],
   "source": [
    "###### Sunburst plot \n",
    "fig = px.sunburst(df6,path=['Standing reach','Body Fat'],values='Agility',color = 'Hand (Length)')\n",
    "fig.show()"
   ]
  },
  {
   "cell_type": "code",
   "execution_count": null,
   "id": "502faa78",
   "metadata": {},
   "outputs": [],
   "source": [
    "# The above graph shows the relation between df6 and labels where the values are of Agility column"
   ]
  },
  {
   "cell_type": "code",
   "execution_count": null,
   "id": "7bfbc7d7",
   "metadata": {},
   "outputs": [],
   "source": [
    "#### Box plots\n",
    "\n",
    "fig = px.box(df6,x='Year',y='Player',color='Year',notched=True)\n",
    "fig.show()"
   ]
  },
  {
   "cell_type": "code",
   "execution_count": null,
   "id": "470d96ea",
   "metadata": {},
   "outputs": [],
   "source": [
    "###  Strip Plots\n",
    "\n",
    "fig = px.strip(df6,x='Wingspan',y='Vertical (No Step Reach)',orientation=\"h\",color='Player')\n",
    "fig.show()"
   ]
  },
  {
   "cell_type": "code",
   "execution_count": null,
   "id": "1c53de8e",
   "metadata": {},
   "outputs": [],
   "source": [
    "#  The above plot shows that Vertical(No Steps Reach) and Wingspan have a linear relationship,so we can draw a best\n",
    "#  fit line using linear regression,then for a new data,it will also show result as the above plot.\n",
    "#  The above plot shows that most players have wingspan between 80-85 and Vertical(No Step Reach) between 130-140"
   ]
  },
  {
   "cell_type": "code",
   "execution_count": null,
   "id": "b0a542dd",
   "metadata": {},
   "outputs": [],
   "source": [
    "#####  Density Contour Plot\n",
    "\n",
    "\n",
    "fig = px.density_contour(df6,x=\"Player\",y=\"Year\",z=\"Height (No Shoes)\")\n",
    "fig.show()"
   ]
  },
  {
   "cell_type": "code",
   "execution_count": null,
   "id": "1b4db570",
   "metadata": {},
   "outputs": [],
   "source": [
    "####   3d scatter plots\n",
    "\n",
    "\n",
    "fig = px.scatter_3d(df6,x='Player',y='Year',z=\"Weight\",color=\"Body Fat\",size=\"Body Fat\",hover_name=\"Bench\",\n",
    "                   symbol=\"Agility\",color_discrete_map={\"Player\":\"blue\",\"Year\":\"green\",\"Weight\":\"red\"})\n",
    "\n",
    "fig.show()"
   ]
  },
  {
   "cell_type": "code",
   "execution_count": null,
   "id": "932c58e5",
   "metadata": {},
   "outputs": [],
   "source": [
    "# The above plot shows that  in the year 2012 ,molst players have weight much greater that other year player,i.e, most players have weight \n",
    "# between 200-280"
   ]
  },
  {
   "cell_type": "code",
   "execution_count": null,
   "id": "42ee2813",
   "metadata": {},
   "outputs": [],
   "source": [
    "###### Scatter polar \n",
    "\n",
    "\n",
    "\n",
    "fig = px.scatter_polar(df6,r = \"Draft pick\",theta=\"Player\",color=\"Weight\",\n",
    "                       symbol=\"Bench\",color_discrete_sequence=px.colors.sequential.Plasma_r)\n",
    "fig.show()"
   ]
  },
  {
   "cell_type": "code",
   "execution_count": null,
   "id": "da59c7b8",
   "metadata": {},
   "outputs": [],
   "source": [
    "# The above plot shows that maximum player have draft pick =29 "
   ]
  },
  {
   "cell_type": "code",
   "execution_count": null,
   "id": "a2c1b5a2",
   "metadata": {},
   "outputs": [],
   "source": [
    "###  Violin Plots\n",
    "\n",
    "\n",
    "fig = px.violin(df6,y='Player',x='Year',color=\"Body Fat\",box=True,points=\"all\",hover_data=df6.columns)\n",
    "fig.show()"
   ]
  },
  {
   "cell_type": "code",
   "execution_count": null,
   "id": "fda2c96f",
   "metadata": {},
   "outputs": [],
   "source": [
    "###  Outline symbol maps\n",
    "\n",
    "\n",
    "\n",
    "fig=px.scatter_geo(df6,locations=\"Year\",color=\"Year\",hover_name=\"Player\",size=\"Weight\",\n",
    "                   animation_frame=\"Wingspan\")\n",
    "fig.show()"
   ]
  },
  {
   "cell_type": "code",
   "execution_count": null,
   "id": "52a4666e",
   "metadata": {},
   "outputs": [],
   "source": [
    "####  Radar Charts\n",
    "\n",
    "\n",
    "\n",
    "fig = px.line_polar(df6,r = \"Sprint\",theta=\"Weight\",color=\"Agility\",line_close=True,\n",
    "                    color_discrete_sequence=px.colors.sequential.Plasma_r)\n",
    "fig.show()"
   ]
  },
  {
   "cell_type": "code",
   "execution_count": null,
   "id": "584d76d1",
   "metadata": {
    "scrolled": false
   },
   "outputs": [],
   "source": [
    "#####  Polar bar charts\n",
    "\n",
    "\n",
    "\n",
    "fig = px.bar_polar(df6,r = \"Standing reach\",theta=\"Weight\",color=\"Player\",template=\"plotly_dark\",\n",
    "                    color_discrete_sequence=px.colors.sequential.Plasma_r)\n",
    "fig.show()"
   ]
  },
  {
   "cell_type": "code",
   "execution_count": null,
   "id": "f15bf7f8",
   "metadata": {},
   "outputs": [],
   "source": [
    "# The above plot shows at which angle most of the player weight are flowing."
   ]
  },
  {
   "cell_type": "code",
   "execution_count": null,
   "id": "e7232ed5",
   "metadata": {},
   "outputs": [],
   "source": [
    "df6.iplot(x = \"Player\" ,y = \"Weight\",mode = 'markers',color='blue')"
   ]
  },
  {
   "cell_type": "markdown",
   "id": "1e377ed3",
   "metadata": {},
   "source": [
    "### Plots using cufflinks "
   ]
  },
  {
   "cell_type": "code",
   "execution_count": null,
   "id": "83378475",
   "metadata": {},
   "outputs": [],
   "source": [
    "### All cufflinks themes"
   ]
  },
  {
   "cell_type": "code",
   "execution_count": null,
   "id": "a7259714",
   "metadata": {},
   "outputs": [],
   "source": [
    "cf.getThemes()"
   ]
  },
  {
   "cell_type": "code",
   "execution_count": null,
   "id": "43e73b98",
   "metadata": {},
   "outputs": [],
   "source": [
    "cf.set_config_file(theme='solar')\n",
    "df6.iplot(x = 'Wingspan' , y ='Player',mode = 'markers',color=\"pink\", xTitle = \"Year\" , yTitle = 'Player') "
   ]
  },
  {
   "cell_type": "code",
   "execution_count": null,
   "id": "e6743d70",
   "metadata": {},
   "outputs": [],
   "source": [
    "# The above plot shows that most of the players have wingspan between 80-86 and \n",
    "# the players having maximum wingspan is Rudy Gobert"
   ]
  },
  {
   "cell_type": "code",
   "execution_count": null,
   "id": "dd962559",
   "metadata": {},
   "outputs": [],
   "source": [
    "df6.plot(figsize=(20,20))"
   ]
  },
  {
   "cell_type": "code",
   "execution_count": null,
   "id": "0df4ceff",
   "metadata": {},
   "outputs": [],
   "source": [
    "cf.set_config_file(theme = 'pearl')\n",
    "df6.iplot(kind ='scatter',mode = 'markers',x = 'Sprint',y = 'Body Fat',xTitle='Sprint',yTitle = 'Year')"
   ]
  },
  {
   "cell_type": "code",
   "execution_count": null,
   "id": "30525041",
   "metadata": {},
   "outputs": [],
   "source": [
    "# The above plot shows that maximum players have Sprint as 3.32\n",
    "# Most of the players have sprint between 3.2-3.5.\n",
    "# Max body fat is 16.3 with sprint 3.44"
   ]
  },
  {
   "cell_type": "code",
   "execution_count": null,
   "id": "e2389a7a",
   "metadata": {},
   "outputs": [],
   "source": [
    "cf.set_config_file(theme = 'white')\n",
    "df2.iplot(kind ='scatter',mode = 'markers',x = 'Draft pick',\n",
    "              y = 'Vertical (Max Reach)',xTitle='Draft Pick',yTitle = 'Vertical(Max Reach)')"
   ]
  },
  {
   "cell_type": "code",
   "execution_count": null,
   "id": "52995788",
   "metadata": {},
   "outputs": [],
   "source": [
    "# The above graph shows that player with max Draft Pick 58 have Vertical Max Reach-136\n",
    "# The player with max Vertical Max Reach -144.5 have 37 as Draft Pick"
   ]
  },
  {
   "cell_type": "code",
   "execution_count": null,
   "id": "0f090c46",
   "metadata": {},
   "outputs": [],
   "source": [
    "cf.set_config_file(theme = 'solar')\n",
    "df6.iplot(kind ='scatter',mode = 'markers',x = 'Vertical (No Step Reach)',\n",
    "          y = 'Player',xTitle='Vertical (No Step Reach)',yTitle = 'Player')"
   ]
  },
  {
   "cell_type": "code",
   "execution_count": null,
   "id": "53e95f9e",
   "metadata": {},
   "outputs": [],
   "source": [
    "# The above graph shows that most players have 132 as Vertical (No step Reach).\n",
    "# The player with lowest Vertical (No step Reach)-119 is Melo Trimble"
   ]
  },
  {
   "cell_type": "code",
   "execution_count": null,
   "id": "61fef4e0",
   "metadata": {},
   "outputs": [],
   "source": [
    "df6.iplot(kind='hist', bins = 25, barmode = 'overlay', bargap=0.2)"
   ]
  },
  {
   "cell_type": "code",
   "execution_count": null,
   "id": "31c26c9a",
   "metadata": {},
   "outputs": [],
   "source": [
    "## Animations.\n",
    "\n",
    "\n",
    "fig = px.scatter(df6, x=\"Year\", y=\"Player\", animation_frame=\"Weight\", animation_group=\"Sprint\",\n",
    "           size=\"Sprint\", color=\"Player\", hover_name=\"Agility\", facet_col=\"Bench\",\n",
    "           log_x=True, size_max=45, range_x=[100,100000], range_y=[25,90])\n",
    "fig.show()"
   ]
  },
  {
   "cell_type": "code",
   "execution_count": null,
   "id": "408a2f07",
   "metadata": {},
   "outputs": [],
   "source": [
    "##### All statistics plots for the df6 Data Frame"
   ]
  },
  {
   "cell_type": "code",
   "execution_count": null,
   "id": "10b66c0b",
   "metadata": {},
   "outputs": [],
   "source": [
    "df7=df6.describe()"
   ]
  },
  {
   "cell_type": "code",
   "execution_count": null,
   "id": "ff9b33d8",
   "metadata": {},
   "outputs": [],
   "source": [
    "df7.iplot(kind='scatter')"
   ]
  },
  {
   "cell_type": "markdown",
   "id": "56675245",
   "metadata": {},
   "source": [
    "#  Project -Completed \n",
    "#  Made By- Swetanshu Pandey"
   ]
  },
  {
   "cell_type": "code",
   "execution_count": null,
   "id": "6eb8363c",
   "metadata": {},
   "outputs": [],
   "source": []
  }
 ],
 "metadata": {
  "kernelspec": {
   "display_name": "Python 3 (ipykernel)",
   "language": "python",
   "name": "python3"
  },
  "language_info": {
   "codemirror_mode": {
    "name": "ipython",
    "version": 3
   },
   "file_extension": ".py",
   "mimetype": "text/x-python",
   "name": "python",
   "nbconvert_exporter": "python",
   "pygments_lexer": "ipython3",
   "version": "3.9.7"
  }
 },
 "nbformat": 4,
 "nbformat_minor": 5
}
