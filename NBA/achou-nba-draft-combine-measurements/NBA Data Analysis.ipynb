{
 "cells": [
  {
   "cell_type": "code",
   "execution_count": null,
   "id": "f5a43ea5",
   "metadata": {},
   "outputs": [],
   "source": [
    "# Importing important libraries"
   ]
  },
  {
   "cell_type": "code",
   "execution_count": null,
   "id": "90230799",
   "metadata": {},
   "outputs": [],
   "source": [
    "import pandas as pd\n",
    "import numpy as np\n",
    "import seaborn as sns\n",
    "import matplotlib.pyplot as plt\n",
    "%matplotlib inline"
   ]
  },
  {
   "cell_type": "code",
   "execution_count": null,
   "id": "99383861",
   "metadata": {},
   "outputs": [],
   "source": [
    "# Importing all dataframes"
   ]
  },
  {
   "cell_type": "code",
   "execution_count": null,
   "id": "45d546a7",
   "metadata": {},
   "outputs": [],
   "source": [
    "df1=pd.read_csv(\"2012_nba_draft_combine.csv\")\n",
    "df2=pd.read_csv(\"2013_nba_draft_combine.csv\")\n",
    "df3=pd.read_csv(\"2014_nba_draft_combine.csv\")\n",
    "df4=pd.read_csv(\"2015_nba_draft_combine.csv\")\n",
    "df5=pd.read_csv(\"2016_nba_draft_combine.csv\")"
   ]
  },
  {
   "cell_type": "code",
   "execution_count": null,
   "id": "d61e1866",
   "metadata": {},
   "outputs": [],
   "source": [
    "# Combining all dataframes"
   ]
  },
  {
   "cell_type": "code",
   "execution_count": null,
   "id": "45162261",
   "metadata": {},
   "outputs": [],
   "source": [
    "df6=pd.concat([df1,df2,df3,df4,df5],axis=0)"
   ]
  },
  {
   "cell_type": "code",
   "execution_count": null,
   "id": "1a80f0f8",
   "metadata": {},
   "outputs": [],
   "source": [
    "df6"
   ]
  },
  {
   "cell_type": "code",
   "execution_count": null,
   "id": "c7ef7552",
   "metadata": {},
   "outputs": [],
   "source": [
    "df6.describe()"
   ]
  },
  {
   "cell_type": "code",
   "execution_count": null,
   "id": "2f14a04f",
   "metadata": {},
   "outputs": [],
   "source": [
    "#Number of Unique values in each colums"
   ]
  },
  {
   "cell_type": "code",
   "execution_count": null,
   "id": "78fe7511",
   "metadata": {},
   "outputs": [],
   "source": [
    "nunique=[]\n",
    "columns_labels=[]\n",
    "for i in df6.columns:\n",
    "    nunique.append(df6[i].nunique())\n",
    "    columns_labels.append(i)\n",
    "    print(i,':',df6[i].nunique())"
   ]
  },
  {
   "cell_type": "code",
   "execution_count": null,
   "id": "57f713c8",
   "metadata": {},
   "outputs": [],
   "source": [
    "# Droping Unnames: 0 columns"
   ]
  },
  {
   "cell_type": "code",
   "execution_count": null,
   "id": "74b14160",
   "metadata": {},
   "outputs": [],
   "source": [
    "df6.drop(labels='Unnamed: 0',inplace=True,axis=1)"
   ]
  },
  {
   "cell_type": "code",
   "execution_count": null,
   "id": "5ddb4ade",
   "metadata": {},
   "outputs": [],
   "source": [
    "df6.head()"
   ]
  },
  {
   "cell_type": "code",
   "execution_count": null,
   "id": "00f0e585",
   "metadata": {},
   "outputs": [],
   "source": [
    "df6['Player'].nunique()"
   ]
  },
  {
   "cell_type": "code",
   "execution_count": null,
   "id": "f570337b",
   "metadata": {},
   "outputs": [],
   "source": [
    "# Checking total nan values in each column"
   ]
  },
  {
   "cell_type": "code",
   "execution_count": null,
   "id": "94a83c4a",
   "metadata": {},
   "outputs": [],
   "source": [
    "df6.isna().sum()"
   ]
  },
  {
   "cell_type": "code",
   "execution_count": null,
   "id": "46c73807",
   "metadata": {},
   "outputs": [],
   "source": [
    "# Fill nan values of each column"
   ]
  },
  {
   "cell_type": "code",
   "execution_count": null,
   "id": "f12264f0",
   "metadata": {},
   "outputs": [],
   "source": [
    "df6.fillna(df6.mean(),inplace=True)"
   ]
  },
  {
   "cell_type": "code",
   "execution_count": null,
   "id": "41e07aae",
   "metadata": {},
   "outputs": [],
   "source": [
    "df6['Year'].fillna(value=2014,inplace=True)"
   ]
  },
  {
   "cell_type": "code",
   "execution_count": null,
   "id": "70ed4db0",
   "metadata": {},
   "outputs": [],
   "source": [
    "# Relationship between Sprint and Body Fat"
   ]
  },
  {
   "cell_type": "code",
   "execution_count": null,
   "id": "220a4e52",
   "metadata": {},
   "outputs": [],
   "source": [
    "plt.figure(figsize=(10,10))\n",
    "plt.scatter(df6[\"Body Fat\"],df6['Sprint'],color='red')\n",
    "plt.xlabel('Body Fat')\n",
    "plt.ylabel('Sprint')\n",
    "plt.show()\n",
    "####  It shows that most people can do good sprint when their body fat is  between 5-9"
   ]
  },
  {
   "cell_type": "code",
   "execution_count": null,
   "id": "8e9beaea",
   "metadata": {},
   "outputs": [],
   "source": [
    "# Relation betweeen Hand Length and Hand Width"
   ]
  },
  {
   "cell_type": "code",
   "execution_count": null,
   "id": "add1e4cc",
   "metadata": {},
   "outputs": [],
   "source": [
    "plt.figure(figsize=(10,10))\n",
    "plt.scatter(df6[\"Hand (Length)\"],df6['Hand (Width)'],color='red')\n",
    "plt.xlabel('Hand (Length)')\n",
    "plt.ylabel('Hand (Width)')\n",
    "plt.show()\n",
    "# It shows most of the people having maximum hand length have max hand width also"
   ]
  },
  {
   "cell_type": "code",
   "execution_count": null,
   "id": "1642674a",
   "metadata": {},
   "outputs": [],
   "source": [
    "df6"
   ]
  },
  {
   "cell_type": "code",
   "execution_count": null,
   "id": "9d278778",
   "metadata": {},
   "outputs": [],
   "source": [
    "# Relation between \"Height (With Shoes)\" and \"Height (No Shoes)\""
   ]
  },
  {
   "cell_type": "code",
   "execution_count": null,
   "id": "80074c81",
   "metadata": {},
   "outputs": [],
   "source": [
    "df8=df6[[\"Height (With Shoes)\",\"Height (No Shoes)\",'Player']]"
   ]
  },
  {
   "cell_type": "code",
   "execution_count": null,
   "id": "fdd47587",
   "metadata": {},
   "outputs": [],
   "source": [
    "df8.plot(figsize=(16,16))"
   ]
  },
  {
   "cell_type": "code",
   "execution_count": null,
   "id": "ffaa6100",
   "metadata": {},
   "outputs": [],
   "source": [
    "# Relation between Vertical (Max) and Vertical (Max Reach)"
   ]
  },
  {
   "cell_type": "code",
   "execution_count": null,
   "id": "8fca3e60",
   "metadata": {},
   "outputs": [],
   "source": [
    "plt.figure(figsize=(10,10))\n",
    "plt.scatter(df6[\"Vertical (Max)\"],df6['Vertical (Max Reach)'],color='red')\n",
    "plt.xlabel('Vertical (Max)')\n",
    "plt.ylabel('Vertical (Max Reach)')\n",
    "plt.show()"
   ]
  },
  {
   "cell_type": "code",
   "execution_count": null,
   "id": "d50e0e1e",
   "metadata": {},
   "outputs": [],
   "source": [
    "# Relationship between Hand (Length) and Hand (Width) using box plot"
   ]
  },
  {
   "cell_type": "code",
   "execution_count": null,
   "id": "53139644",
   "metadata": {},
   "outputs": [],
   "source": [
    "df7=df6[\"Hand (Length)\"]+df6[\"Hand (Width)\"]"
   ]
  },
  {
   "cell_type": "code",
   "execution_count": null,
   "id": "a34cc84e",
   "metadata": {},
   "outputs": [],
   "source": [
    "plt.boxplot(df7,vert=False,patch_artist=True)\n",
    "###  It shows that their are 3 outliers  that do not correlate with other data points"
   ]
  },
  {
   "cell_type": "code",
   "execution_count": null,
   "id": "d366e7bd",
   "metadata": {},
   "outputs": [],
   "source": [
    "# Getting cumulative value of all non object columns"
   ]
  },
  {
   "cell_type": "code",
   "execution_count": null,
   "id": "04d34764",
   "metadata": {
    "scrolled": true
   },
   "outputs": [],
   "source": [
    "for i in df6.columns[1:]:\n",
    "    print(i,\" : \",df6[i].cumsum())"
   ]
  },
  {
   "cell_type": "code",
   "execution_count": null,
   "id": "f9504002",
   "metadata": {},
   "outputs": [],
   "source": [
    "###   Year wise number of occurence"
   ]
  },
  {
   "cell_type": "code",
   "execution_count": null,
   "id": "dcee55e3",
   "metadata": {},
   "outputs": [],
   "source": [
    "df6['Year'].plot.hist()"
   ]
  },
  {
   "cell_type": "code",
   "execution_count": null,
   "id": "647c6fe6",
   "metadata": {},
   "outputs": [],
   "source": [
    "df6.plot.hexbin(x=\"Year\",y=\"Weight\",gridsize=20)"
   ]
  },
  {
   "cell_type": "code",
   "execution_count": null,
   "id": "8197eb13",
   "metadata": {},
   "outputs": [],
   "source": [
    "df6.head()"
   ]
  },
  {
   "cell_type": "code",
   "execution_count": null,
   "id": "16ca8025",
   "metadata": {
    "scrolled": false
   },
   "outputs": [],
   "source": [
    "pd.plotting.scatter_matrix(df6,figsize = (50,50),diagonal = 'kde')"
   ]
  },
  {
   "cell_type": "code",
   "execution_count": null,
   "id": "8f8f597c",
   "metadata": {},
   "outputs": [],
   "source": [
    "### Using Plotly"
   ]
  },
  {
   "cell_type": "code",
   "execution_count": null,
   "id": "da193b9e",
   "metadata": {},
   "outputs": [],
   "source": [
    "from plotly.offline import iplot\n",
    "import plotly as py\n",
    "import plotly.tools as tls\n",
    "import cufflinks as cf"
   ]
  },
  {
   "cell_type": "code",
   "execution_count": null,
   "id": "7b6a7b9e",
   "metadata": {},
   "outputs": [],
   "source": [
    "import plotly.offline as pyo\n",
    "import plotly.graph_objs as go\n",
    "pyo.init_notebook_mode()"
   ]
  },
  {
   "cell_type": "code",
   "execution_count": null,
   "id": "5a51aae7",
   "metadata": {},
   "outputs": [],
   "source": [
    "cf.go_offline()"
   ]
  },
  {
   "cell_type": "code",
   "execution_count": null,
   "id": "0d14fb81",
   "metadata": {},
   "outputs": [],
   "source": []
  },
  {
   "cell_type": "code",
   "execution_count": null,
   "id": "5cfd614b",
   "metadata": {},
   "outputs": [],
   "source": [
    "df6.iplot(x='Year',y='Body Fat')"
   ]
  },
  {
   "cell_type": "code",
   "execution_count": null,
   "id": "08c4fca7",
   "metadata": {},
   "outputs": [],
   "source": [
    "df6.iplot(x='Year',y='Body Fat',z='Player',kind='scatter3d')"
   ]
  },
  {
   "cell_type": "code",
   "execution_count": null,
   "id": "5451661d",
   "metadata": {},
   "outputs": [],
   "source": [
    "df6.iplot(x='Year',y='Weight',z='Player',kind='bubble3d',size = 'Body Fat')"
   ]
  },
  {
   "cell_type": "code",
   "execution_count": null,
   "id": "c1037711",
   "metadata": {},
   "outputs": [],
   "source": [
    "df6.iplot(x='Sprint',y='Year',z='Weight',kind='bubble3d',size='Sprint')"
   ]
  },
  {
   "cell_type": "code",
   "execution_count": null,
   "id": "8f04dfa1",
   "metadata": {},
   "outputs": [],
   "source": [
    "df6.iplot(x='Weight',y='Player',kind='bar')"
   ]
  },
  {
   "cell_type": "code",
   "execution_count": null,
   "id": "d194004b",
   "metadata": {},
   "outputs": [],
   "source": [
    "df6.iplot(x='Height (No Shoes)',y='Player',kind='bar')"
   ]
  },
  {
   "cell_type": "code",
   "execution_count": null,
   "id": "4d3ecc4d",
   "metadata": {},
   "outputs": [],
   "source": [
    "df6.iplot(x='Weight',y='Sprint',z='Player',kind='bubble3d',size='Sprint')"
   ]
  },
  {
   "cell_type": "code",
   "execution_count": null,
   "id": "ca8a42df",
   "metadata": {},
   "outputs": [],
   "source": [
    "df6.iplot(x='Weight',y='Sprint',kind='bar')"
   ]
  },
  {
   "cell_type": "code",
   "execution_count": null,
   "id": "2c75fcd6",
   "metadata": {},
   "outputs": [],
   "source": [
    "df6.iplot(x='Vertical (Max Reach)',y='Weight',kind='bar')"
   ]
  },
  {
   "cell_type": "code",
   "execution_count": null,
   "id": "535fd038",
   "metadata": {},
   "outputs": [],
   "source": [
    "df6.iplot(x='Weight',y='Standing reach',z='Player',kind='scatter3d')"
   ]
  },
  {
   "cell_type": "code",
   "execution_count": null,
   "id": "12672fc2",
   "metadata": {},
   "outputs": [],
   "source": [
    "df6.iplot(x='Weight',y='Standing reach',z='Player',kind='scatter3d')"
   ]
  },
  {
   "cell_type": "code",
   "execution_count": null,
   "id": "7c186b47",
   "metadata": {},
   "outputs": [],
   "source": [
    "df6.head(1)"
   ]
  },
  {
   "cell_type": "code",
   "execution_count": null,
   "id": "a9ad6856",
   "metadata": {},
   "outputs": [],
   "source": [
    "import plotly.express as px"
   ]
  },
  {
   "cell_type": "code",
   "execution_count": null,
   "id": "b994e7bf",
   "metadata": {},
   "outputs": [],
   "source": [
    "#import plotly.express as px\n",
    "#fig = px.parallel_categories(df6,color='Year',color_continuous_scale=px.colors.sequential.Inferno)\n",
    "#fig.show()"
   ]
  },
  {
   "cell_type": "code",
   "execution_count": null,
   "id": "466080ac",
   "metadata": {},
   "outputs": [],
   "source": [
    "fig = px.line(df6,x=\"Year\",y=\"Weight\",color = \"Sprint\",line_group=\"Player\",hover_name=\"Player\",line_shape=\"spline\",render_mode=\"svg\")\n",
    "fig.show()"
   ]
  },
  {
   "cell_type": "code",
   "execution_count": null,
   "id": "6f3729d7",
   "metadata": {},
   "outputs": [],
   "source": [
    "#fig = px.area(df6,x=\"Year\",y=\"Player\",color = \"Draft pick\",line_group=\"Hand (Width)\")\n",
    "#fig.show()"
   ]
  },
  {
   "cell_type": "code",
   "execution_count": null,
   "id": "3cfa02f2",
   "metadata": {},
   "outputs": [],
   "source": [
    "#fig = px.sunburst(df6,path=['Standing reach','Body Fat'],values='Agility',color = 'Hand (Length)',hover_data=['Bench'])\n",
    "#fig.show()"
   ]
  },
  {
   "cell_type": "code",
   "execution_count": null,
   "id": "7bfbc7d7",
   "metadata": {},
   "outputs": [],
   "source": [
    "#### Box plots\n",
    "import plotly.express as px\n",
    "\n",
    "fig = px.box(df6,x='Year',y='Player',color='Year',notched=True)\n",
    "fig.show()"
   ]
  },
  {
   "cell_type": "code",
   "execution_count": null,
   "id": "470d96ea",
   "metadata": {},
   "outputs": [],
   "source": [
    "###  Strip Plots\n",
    "import plotly.express as px\n",
    "fig = px.strip(df6,x='Wingspan',y='Vertical (No Step Reach)',orientation=\"h\",color='Player')\n",
    "fig.show()"
   ]
  },
  {
   "cell_type": "code",
   "execution_count": null,
   "id": "b0a542dd",
   "metadata": {},
   "outputs": [],
   "source": [
    "#####  Density Contour Plot\n",
    "import plotly.express as px\n",
    "fig = px.density_contour(df6,x=\"Player\",y=\"Year\",z=\"Height (No Shoes)\")\n",
    "fig.show()"
   ]
  },
  {
   "cell_type": "code",
   "execution_count": null,
   "id": "0e8950c8",
   "metadata": {},
   "outputs": [],
   "source": [
    "df6.head(1)"
   ]
  },
  {
   "cell_type": "code",
   "execution_count": null,
   "id": "1b4db570",
   "metadata": {},
   "outputs": [],
   "source": [
    "####   3d scatter plots\n",
    "import plotly.express as px\n",
    "\n",
    "\n",
    "fig = px.scatter_3d(df6,x='Player',y='Year',z=\"Weight\",color=\"Body Fat\",size=\"Body Fat\",hover_name=\"Bench\",\n",
    "                   symbol=\"Agility\",color_discrete_map={\"Player\":\"blue\",\"Year\":\"green\",\"Weight\":\"red\"})\n",
    "\n",
    "fig.show()"
   ]
  },
  {
   "cell_type": "code",
   "execution_count": null,
   "id": "877b7109",
   "metadata": {},
   "outputs": [],
   "source": [
    "####   Scatter Mapbox\n",
    "\n",
    "\n",
    "import plotly.express as px\n",
    "fig = px.scatter_mapbox(df6,lat=\"Height (No Shoes)\",lon=\"Height (No Shoes)\",color=\"Year\",size=\"Sprint\",\n",
    "                       color_continuous_scale=px.colors.cyclical.IceFire,size_max=15,zoom=10,\n",
    "                        mapbox_style=\"Player\")\n",
    "fig.show()"
   ]
  },
  {
   "cell_type": "code",
   "execution_count": null,
   "id": "09277eeb",
   "metadata": {},
   "outputs": [],
   "source": [
    "df6.head(1)"
   ]
  },
  {
   "cell_type": "code",
   "execution_count": null,
   "id": "42ee2813",
   "metadata": {},
   "outputs": [],
   "source": [
    "import plotly.express as px\n",
    "\n",
    "df = px.data.wind()\n",
    "\n",
    "fig = px.scatter_polar(df,r = \"frequency\",theta=\"direction\",color=\"strength\",symbol=\"strength\",\n",
    "                       color_discrete_sequence=px.colors.sequential.Plasma_r)\n",
    "fig.show()"
   ]
  },
  {
   "cell_type": "code",
   "execution_count": null,
   "id": "a2c1b5a2",
   "metadata": {},
   "outputs": [],
   "source": []
  }
 ],
 "metadata": {
  "kernelspec": {
   "display_name": "Python 3 (ipykernel)",
   "language": "python",
   "name": "python3"
  },
  "language_info": {
   "codemirror_mode": {
    "name": "ipython",
    "version": 3
   },
   "file_extension": ".py",
   "mimetype": "text/x-python",
   "name": "python",
   "nbconvert_exporter": "python",
   "pygments_lexer": "ipython3",
   "version": "3.9.7"
  }
 },
 "nbformat": 4,
 "nbformat_minor": 5
}
